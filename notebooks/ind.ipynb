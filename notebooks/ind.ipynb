{
 "cells": [
  {
   "cell_type": "markdown",
   "id": "431c9691",
   "metadata": {},
   "source": [
    "# Известны коэффициент трения, коэффициент жесткости, давление в покрышках, масса и скорость автомобиля. Необходимо найти тормозной путь и вывести графики описывающие движение автомобиля."
   ]
  },
  {
   "cell_type": "code",
   "execution_count": null,
   "id": "42497e7a",
   "metadata": {
    "scrolled": true
   },
   "outputs": [],
   "source": [
    "import numpy as np\n",
    "import scipy.integrate as spi\n",
    "import matplotlib.pyplot as plt\n",
    "import ipywidgets as widgets\n",
    "\n",
    "def A(x):\n",
    "    \"\"\"\n",
    "    Задаем функцию для ускорения\n",
    "    \"\"\"\n",
    "    a = -0.08\n",
    "    value = input_value()\n",
    "    for i in value[1:-1]:\n",
    "        a *= i\n",
    "    a /= value[0] \n",
    "    if x > 0.35:\n",
    "        return a\n",
    "    if x < 0.35:\n",
    "        return a / 0.35 * x\n",
    "    "
   ]
  },
  {
   "cell_type": "code",
   "execution_count": null,
   "id": "92e702dd",
   "metadata": {},
   "outputs": [],
   "source": [
    "def V(x):\n",
    "    '''\n",
    "    Задаем функцию для скорости\n",
    "    '''\n",
    "    v0 = input_value()[-1]\n",
    "    v = spi.quad(A, 0, x)[0] + v0 / 3.6\n",
    "    if v > 0:\n",
    "        return v\n",
    "    else:\n",
    "        return 0\n",
    "    \n"
   ]
  },
  {
   "cell_type": "code",
   "execution_count": null,
   "id": "de8a6049",
   "metadata": {},
   "outputs": [],
   "source": [
    "def S(x):\n",
    "    \"\"\"\n",
    "    Задаем функцию для пути\n",
    "    \"\"\"\n",
    "    return spi.quad(V, 0, x)[0]\n"
   ]
  },
  {
   "cell_type": "code",
   "execution_count": null,
   "id": "f71f7aed",
   "metadata": {},
   "outputs": [],
   "source": [
    "def on_button_click(button):\n",
    "    \"\"\"\n",
    "    Создаем функцию для обработки нажатия на кнопку\n",
    "    \"\"\"\n",
    "\n",
    "    # Задаем параметры для графиков\n",
    "    t = np.linspace(0, input_value()[-1] / 20, 50)\n",
    "    v = [V(i)*3.6 for i in t]\n",
    "    s = [S(i) for i in t]\n",
    "\n",
    "\n",
    "    # Создаем фигуру с тремя областями для графиков\n",
    "    fig, (ax1, ax2, ax3) = plt.subplots(1, 3, figsize=(15,3))\n",
    "\n",
    "    # Строим первый график\n",
    "    ax1.plot(t, v)\n",
    "    ax1.set_title('График функции V(t)')\n",
    "\n",
    "    # Строим второй график\n",
    "    ax2.plot(t, s)\n",
    "    ax2.set_title('График функции S(t)')\n",
    "\n",
    "    # Строим третий график\n",
    "    ax3.plot(s, v)\n",
    "    ax3.set_title('График функции V(s)')\n",
    "\n",
    "    plt.show()\n",
    "    print(f\"Тормозной путь: {s[-1]} м\")"
   ]
  },
  {
   "cell_type": "code",
   "execution_count": null,
   "id": "5106fe64",
   "metadata": {},
   "outputs": [],
   "source": [
    "def input_value():\n",
    "    \"\"\"\n",
    "    Получаем данные из полей для ввода\n",
    "    \"\"\"\n",
    "    mass = float(mass_input.value)\n",
    "    friction = float(friction_input.value)\n",
    "    stiffness = float(stiffness_input.value)\n",
    "    pressure = 100000 * float(pressure_input.value)\n",
    "    speed_start = float(speed_start_input.value)\n",
    "    return [mass, friction, stiffness, pressure, speed_start]"
   ]
  },
  {
   "cell_type": "code",
   "execution_count": 4,
   "id": "d71f604b",
   "metadata": {
    "scrolled": true
   },
   "outputs": [
    {
     "data": {
      "application/vnd.jupyter.widget-view+json": {
       "model_id": "c133befeb10d4494839cdcf465921a0b",
       "version_major": 2,
       "version_minor": 0
      },
      "text/plain": [
       "FloatText(value=2000.0, description='Масса (кг):')"
      ]
     },
     "metadata": {},
     "output_type": "display_data"
    },
    {
     "data": {
      "application/vnd.jupyter.widget-view+json": {
       "model_id": "4eea5eac3e06497fa2176a79a87da8c7",
       "version_major": 2,
       "version_minor": 0
      },
      "text/plain": [
       "FloatText(value=0.9, description='Коэффициент трения:')"
      ]
     },
     "metadata": {},
     "output_type": "display_data"
    },
    {
     "data": {
      "application/vnd.jupyter.widget-view+json": {
       "model_id": "c35f09f65a7c4c7294a0baf5a34dfaf5",
       "version_major": 2,
       "version_minor": 0
      },
      "text/plain": [
       "FloatText(value=0.9, description='Коэффициент жесткости:')"
      ]
     },
     "metadata": {},
     "output_type": "display_data"
    },
    {
     "data": {
      "application/vnd.jupyter.widget-view+json": {
       "model_id": "b47ef0f1bb534f7796577dec3eece8a4",
       "version_major": 2,
       "version_minor": 0
      },
      "text/plain": [
       "FloatText(value=2.2, description='Давление (бар):')"
      ]
     },
     "metadata": {},
     "output_type": "display_data"
    },
    {
     "data": {
      "application/vnd.jupyter.widget-view+json": {
       "model_id": "2ce2e960476947fa8f81b9f7a5766f88",
       "version_major": 2,
       "version_minor": 0
      },
      "text/plain": [
       "FloatText(value=70.0, description='Начальная скорость (Км/ч):')"
      ]
     },
     "metadata": {},
     "output_type": "display_data"
    },
    {
     "data": {
      "application/vnd.jupyter.widget-view+json": {
       "model_id": "fec585fe991f4148b91fec33e8416fe3",
       "version_major": 2,
       "version_minor": 0
      },
      "text/plain": [
       "Button(description='Обработать', style=ButtonStyle())"
      ]
     },
     "metadata": {},
     "output_type": "display_data"
    },
    {
     "data": {
      "image/png": "[encoded data removed]",
      "text/plain": [
       "<Figure size 1500x300 with 3 Axes>"
      ]
     },
     "metadata": {},
     "output_type": "display_data"
    },
    {
     "name": "stdout",
     "output_type": "stream",
     "text": [
      "Тормозной путь: 29.887608752401935 м\n"
     ]
    }
   ],
   "source": [
    "# Создаем поля для ввода данных\n",
    "mass_input = widgets.FloatText(description='Масса (кг):', value=2000)\n",
    "friction_input = widgets.FloatText(description='Коэффициент трения:', value=0.9)\n",
    "stiffness_input = widgets.FloatText(description='Коэффициент жесткости:', value=0.9)\n",
    "pressure_input = widgets.FloatText(description='Давление (бар):', value=2.2)\n",
    "speed_start_input = widgets.FloatText(description='Начальная скорость (Км/ч):', value=70)\n",
    "\n",
    "# Создаем кнопку\n",
    "button = widgets.Button(description='Обработать')\n",
    "\n",
    "# Назначаем обработчик нажатия на кнопку\n",
    "button.on_click(on_button_click)\n",
    "\n",
    "# Отображаем поля для ввода и кнопку\n",
    "\n",
    "display(mass_input, friction_input, stiffness_input, pressure_input,speed_start_input, button)"
   ]
  },
  {
   "cell_type": "code",
   "execution_count": null,
   "id": "093be995",
   "metadata": {},
   "outputs": [],
   "source": []
  }
 ],
 "metadata": {
  "kernelspec": {
   "display_name": "Python 3 (ipykernel)",
   "language": "python",
   "name": "python3"
  },
  "language_info": {
   "codemirror_mode": {
    "name": "ipython",
    "version": 3
   },
   "file_extension": ".py",
   "mimetype": "text/x-python",
   "name": "python",
   "nbconvert_exporter": "python",
   "pygments_lexer": "ipython3",
   "version": "3.9.13"
  }
 },
 "nbformat": 4,
 "nbformat_minor": 5
}
