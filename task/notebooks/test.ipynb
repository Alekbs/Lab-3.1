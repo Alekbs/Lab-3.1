{
 "cells": [
  {
   "cell_type": "code",
   "execution_count": 1,
   "id": "59086739",
   "metadata": {},
   "outputs": [
    {
     "name": "stdout",
     "output_type": "stream",
     "text": [
      "0 H\n",
      "1 e\n",
      "2 l\n",
      "3 l\n",
      "4 o\n",
      "5 ,\n",
      "6  \n",
      "7 W\n",
      "8 o\n",
      "9 r\n",
      "10 l\n",
      "11 d\n"
     ]
    }
   ],
   "source": [
    "str = \"Hello, World\"\n",
    "for i, word in enumerate(str):\n",
    "    print(i, word)"
   ]
  },
  {
   "cell_type": "code",
   "execution_count": 42,
   "id": "1b8be2f5",
   "metadata": {},
   "outputs": [],
   "source": [
    "from matplotlib import pylab as plt\n",
    "%matplotlib inline"
   ]
  },
  {
   "cell_type": "code",
   "execution_count": 44,
   "id": "d67207f9",
   "metadata": {},
   "outputs": [
    {
     "data": {
      "text/plain": [
       "[<matplotlib.lines.Line2D at 0x1e66178c0a0>,\n",
       " <matplotlib.lines.Line2D at 0x1e66178c100>]"
      ]
     },
     "execution_count": 44,
     "metadata": {},
     "output_type": "execute_result"
    },
    {
     "data": {
      "image/png": "[encoded data removed]",
      "text/plain": [
       "<Figure size 640x480 with 1 Axes>"
      ]
     },
     "metadata": {},
     "output_type": "display_data"
    }
   ],
   "source": [
    "x = [0*i+20 for i in range(50)]\n",
    "y = [i+10 for i in range(50)]\n",
    "x1 = [0*i for i in range(50)]\n",
    "n = [i+5 for i in range(10)]\n",
    "z = [0*i+20 for i in range(50)]\n",
    "plt.plot(x,y,x1,y)"
   ]
  },
  {
   "cell_type": "code",
   "execution_count": null,
   "id": "6bca87fb",
   "metadata": {},
   "outputs": [],
   "source": []
  },
  {
   "cell_type": "code",
   "execution_count": null,
   "id": "d1823de0",
   "metadata": {},
   "outputs": [],
   "source": []
  },
  {
   "cell_type": "code",
   "execution_count": null,
   "id": "e04d93c1",
   "metadata": {},
   "outputs": [],
   "source": []
  }
 ],
 "metadata": {
  "kernelspec": {
   "display_name": "Python 3 (ipykernel)",
   "language": "python",
   "name": "python3"
  },
  "language_info": {
   "codemirror_mode": {
    "name": "ipython",
    "version": 3
   },
   "file_extension": ".py",
   "mimetype": "text/x-python",
   "name": "python",
   "nbconvert_exporter": "python",
   "pygments_lexer": "ipython3",
   "version": "3.9.13"
  }
 },
 "nbformat": 4,
 "nbformat_minor": 5
}
